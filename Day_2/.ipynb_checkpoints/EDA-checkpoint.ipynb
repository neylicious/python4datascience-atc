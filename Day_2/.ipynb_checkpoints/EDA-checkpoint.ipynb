{
 "cells": [
  {
   "cell_type": "markdown",
   "metadata": {},
   "source": [
    "## Exploratory Data Analysis\n",
    "Data Exploration is the key to getting insights from data. Practitioners say a good data exploration strategy can solve even complicated problems in few hours.\n",
    "\n",
    "We will use tanzania household survey data-set from "
   ]
  },
  {
   "cell_type": "code",
   "execution_count": 1,
   "metadata": {
    "collapsed": true
   },
   "outputs": [],
   "source": [
    "import numpy as np\n",
    "import pandas as pd   #Required for the DataFrame data structure\n",
    "import matplotlib.pyplot as plt\n",
    "import seaborn as sn\n",
    "%matplotlib inline"
   ]
  },
  {
   "cell_type": "code",
   "execution_count": 2,
   "metadata": {},
   "outputs": [
    {
     "data": {
      "text/plain": [
       "Index(['Unnamed: 0', 'house_number', 'households_number', 'households_women',\n",
       "       'households_men', 'households_children', 'region', 'residence_type',\n",
       "       'residence_type.1', 'drink_water_source', 'time_water_source',\n",
       "       'toilet_type', 'electricity', 'radio', 'tv', 'refrigerator',\n",
       "       'floor_material', 'wall_material', 'roof_material', 'sleeping_room',\n",
       "       'landline', 'share_toilet', 'cooking_fuel_type', 'bednet',\n",
       "       'treat_water', 'water_boil', 'water_bleach', 'water_strain',\n",
       "       'water_filter', 'water_solar', 'water_settle', 'water_other',\n",
       "       'house_share_toilet', 'wealth_index', 'wealth_index_score', 'location',\n",
       "       'water_provider', 'paraffin_lamp', 'iron', 'lighting_source',\n",
       "       'distance_market', 'meals_day', 'distance_health'],\n",
       "      dtype='object')"
      ]
     },
     "execution_count": 2,
     "metadata": {},
     "output_type": "execute_result"
    }
   ],
   "source": [
    "data = pd.read_csv(\"data/householdtz.csv\")\n",
    "data.columns"
   ]
  },
  {
   "cell_type": "markdown",
   "metadata": {},
   "source": [
    "- HOUSEHOLD number :house_id\n",
    "- Number of HOUSEHOLD: households_number \n",
    "- Number of eligible women in HH: households_women\n",
    "- Number of eligible men in HH: households_men\n",
    "- Number of children 5 and under: households_children\n",
    "- Region: region\n",
    "- Type of place of residence: residence_type\n",
    "- Place of residence: residence_place\n",
    "- Source of drinking water: drink_water_source\n",
    "- Time to get to water source: time_water_source\n",
    "- Type of toilet facility: toilet_type\n",
    "- Has electricity: electricity\n",
    "- Has radio: radio\n",
    "- Has television: tv\n",
    "- Has refrigerator: refrigerator\n",
    "- Main floor material: floor_material\n",
    "- Main wall material: wall_material\n",
    "- Main roof material: roof_material\n",
    "- Rooms used for sleeping: sleeping_room\n",
    "- Has a landline telephone: landline\n",
    "- Share toilet with other households:share_toilet\n",
    "- Type of cooking fuel: cooking_fuel_type\n",
    "- Have bednet for sleeping: bednet\n",
    "- Anything done to water to make safe to drink: treat_water\n",
    "- Water usually treated by: boil: water_boil\n",
    "- Water usually treated by: add bleach/chlorine: water_bleach\n",
    "- Water usually treated by: strain through a cloth: water_strain\n",
    "- Water usually treated by: use water filter:water_filter\n",
    "- Water usually treated by: solar disinfection:water_solar\n",
    "- Water usually treated by: let it stand and settle:water_settle\n",
    "- Water usually treated by: other: water_other\n",
    "- Number of households sharing toilet: house_share_toilet\n",
    "- Wealth index: wealth_index\n",
    "- Wealth index factor score (5 decimals): wealth_index_score\n",
    "- Mainland/Zanzibar: location\n",
    "- Who provides water at main source: water_provider\n",
    "- Paraffin lamp:paraffin_lamp\n",
    "- Iron:iron\n",
    "- Main source of energy for lighting:lighting_source\n",
    "- How far is the nearest market place (kilometers):distance_market\n",
    "- How many meals per day:meals_day\n",
    "- How far is the nearest health facility:distance_health"
   ]
  },
  {
   "cell_type": "markdown",
   "metadata": {},
   "source": [
    "##  Basic description of data\n",
    " Aswer the following questions:\n",
    " - What is the average time a person take to reach to water source?\n",
    " - What is maximum distance a person walk to reach health facility?\n",
    " - What is the avarage number of households per family?"
   ]
  },
  {
   "cell_type": "markdown",
   "metadata": {},
   "source": [
    "## Let look our data graphically"
   ]
  },
  {
   "cell_type": "markdown",
   "metadata": {},
   "source": [
    "1. Distribution of residence from Tanzania mainland and Tanzania Zanzibar\n",
    "\n",
    "** Note:** use *.value_counts()* to get unique values of categorical column."
   ]
  },
  {
   "cell_type": "code",
   "execution_count": 3,
   "metadata": {},
   "outputs": [
    {
     "data": {
      "image/png": "[encoded data removed]",
      "text/plain": [
       "<matplotlib.figure.Figure at 0x7fe583e19da0>"
      ]
     },
     "metadata": {},
     "output_type": "display_data"
    }
   ],
   "source": [
    "data.location.value_counts().plot(kind='bar')\n",
    "plt.title('Distribution of residence from Tanzania mainland and Tanzania Zanzibar');"
   ]
  },
  {
   "cell_type": "markdown",
   "metadata": {},
   "source": [
    "It clear that most people are coming from Tanzania mainland rural."
   ]
  },
  {
   "cell_type": "code",
   "execution_count": 4,
   "metadata": {},
   "outputs": [
    {
     "name": "stdout",
     "output_type": "stream",
     "text": [
      "Number of people from Tanzania-rural: 329 \n",
      "Number of people from Tanzania-urban: 68 \n",
      "Number of people from Tanzania-Zanzibar: 4 \n"
     ]
    }
   ],
   "source": [
    "tz_rural = len(data[data.location=='Mainland rural'])\n",
    "tz_urban = len(data[data.location=='Mainland urban'])\n",
    "tz_ugunja = len(data[data.location=='Unguja'])\n",
    "total = data.shape[0]\n",
    "print(\"Number of people from Tanzania-rural: %d \" %tz_rural)\n",
    "print(\"Number of people from Tanzania-urban: %d \" %tz_urban)\n",
    "print(\"Number of people from Tanzania-Zanzibar: %d \" %tz_ugunja)"
   ]
  },
  {
   "cell_type": "markdown",
   "metadata": {},
   "source": [
    "# <font color=\"green\">Exercise</font> :\n",
    "* Plot the distribution of water treatment. What percent of people do not treat their drinking water?"
   ]
  },
  {
   "cell_type": "code",
   "execution_count": null,
   "metadata": {
    "collapsed": true
   },
   "outputs": [],
   "source": [
    "Let us look on number of people per household by place of residence"
   ]
  },
  {
   "cell_type": "code",
   "execution_count": null,
   "metadata": {},
   "outputs": [],
   "source": [
    "V = data.hist(\"households_number\",by=[\"residence_type\"],bins=data[\"households_number\"].max(),normed = True, sharex = True, sharey = True)\n",
    "plt.sca(V[0]);\n",
    "plt.xlabel(\"Number of members\");\n",
    "plt.ylabel(\"Porportion of households\");\n",
    "plt.grid(True);\n",
    "plt.sca(V[1]);\n",
    "plt.xlabel(\"Number of members\");\n",
    "plt.ylabel(\"Proportion of households\");"
   ]
  },
  {
   "cell_type": "code",
   "execution_count": null,
   "metadata": {
    "collapsed": true
   },
   "outputs": [],
   "source": []
  }
 ],
 "metadata": {
  "kernelspec": {
   "display_name": "Python 3",
   "language": "python",
   "name": "python3"
  },
  "language_info": {
   "codemirror_mode": {
    "name": "ipython",
    "version": 3
   },
   "file_extension": ".py",
   "mimetype": "text/x-python",
   "name": "python",
   "nbconvert_exporter": "python",
   "pygments_lexer": "ipython3",
   "version": "3.6.0"
  }
 },
 "nbformat": 4,
 "nbformat_minor": 2
}
