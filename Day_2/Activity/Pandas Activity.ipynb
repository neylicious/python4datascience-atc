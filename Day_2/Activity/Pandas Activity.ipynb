{
 "cells": [
  {
   "cell_type": "markdown",
   "metadata": {},
   "source": [
    "## Step 1. Import numpy and pandas library"
   ]
  },
  {
   "cell_type": "code",
   "execution_count": null,
   "metadata": {
    "collapsed": true
   },
   "outputs": [],
   "source": [
    "# your code here\n"
   ]
  },
  {
   "cell_type": "markdown",
   "metadata": {},
   "source": [
    "## Step 2. Load tanzania house-hold data set"
   ]
  },
  {
   "cell_type": "code",
   "execution_count": null,
   "metadata": {
    "collapsed": true
   },
   "outputs": [],
   "source": [
    "# your code here\n"
   ]
  },
  {
   "cell_type": "markdown",
   "metadata": {},
   "source": [
    "The columns are organized as:\n",
    "- HOUSEHOLD number :house_id\n",
    "- Number of HOUSEHOLD: households_number \n",
    "- Number of eligible women in HH: households_women\n",
    "- Number of eligible men in HH: households_men\n",
    "- Number of children 5 and under: households_children\n",
    "- Region: region\n",
    "- Type of place of residence: residence_type\n",
    "- Place of residence: residence_place\n",
    "- Source of drinking water: drink_water_source\n",
    "- Time to get to water source: time_water_source\n",
    "- Type of toilet facility: toilet_type\n",
    "- Has electricity: electricity\n",
    "- Has radio: radio\n",
    "- Has television: tv\n",
    "- Has refrigerator: refrigerator\n",
    "- Main floor material: floor_material\n",
    "- Main wall material: wall_material\n",
    "- Main roof material: roof_material\n",
    "- Rooms used for sleeping: sleeping_room\n",
    "- Has a landline telephone: landline\n",
    "- Share toilet with other households:share_toilet\n",
    "- Type of cooking fuel: cooking_fuel_type\n",
    "- Have bednet for sleeping: bednet\n",
    "- Anything done to water to make safe to drink: treat_water\n",
    "- Water usually treated by: boil: water_boil\n",
    "- Water usually treated by: add bleach/chlorine: water_bleach\n",
    "- Water usually treated by: strain through a cloth: water_strain\n",
    "- Water usually treated by: use water filter:water_filter\n",
    "- Water usually treated by: solar disinfection:water_solar\n",
    "- Water usually treated by: let it stand and settle:water_settle\n",
    "- Water usually treated by: other: water_other\n",
    "- Number of households sharing toilet: house_share_toilet\n",
    "- Wealth index: wealth_index\n",
    "- Wealth index factor score (5 decimals): wealth_index_score\n",
    "- Mainland/Zanzibar: location\n",
    "- Who provides water at main source: water_provider\n",
    "- Paraffin lamp:paraffin_lamp\n",
    "- Iron:iron\n",
    "- Main source of energy for lighting:lighting_source\n",
    "- How far is the nearest market place (kilometers):distance_market\n",
    "- How many meals per day:meals_day\n",
    "- How far is the nearest health facility:distance_health"
   ]
  },
  {
   "cell_type": "markdown",
   "metadata": {},
   "source": [
    "## Step 3. Inspect the data-set and answer the following questions."
   ]
  },
  {
   "cell_type": "markdown",
   "metadata": {},
   "source": [
    "* How many rows does it contain? How many column?"
   ]
  },
  {
   "cell_type": "markdown",
   "metadata": {},
   "source": [
    "## Step 4 Statistically describe numerical features \n",
    "\n",
    "* What is the minimum market walking distance?\n",
    "* What is the average number of meals per day? \n",
    "* What is maximum number of women in households?\n",
    "- What is the average time a person take to reach to water source?\n",
    "- What is maximum distance a person walk to reach health facility?\n",
    "- What is the avarage number of households per family?"
   ]
  },
  {
   "cell_type": "code",
   "execution_count": null,
   "metadata": {
    "collapsed": true
   },
   "outputs": [],
   "source": [
    "# your code here"
   ]
  },
  {
   "cell_type": "markdown",
   "metadata": {},
   "source": [
    "## Counting categorical values\n",
    "\n",
    "Use: `.value_counts()`"
   ]
  },
  {
   "cell_type": "code",
   "execution_count": null,
   "metadata": {},
   "outputs": [],
   "source": [
    "# e.g\n",
    "data.location.value_counts()"
   ]
  },
  {
   "cell_type": "markdown",
   "metadata": {},
   "source": [
    "## Question 1. What are first three regions with lowest average number of house-holds per family?"
   ]
  },
  {
   "cell_type": "code",
   "execution_count": null,
   "metadata": {
    "collapsed": true
   },
   "outputs": [],
   "source": [
    "# your code here"
   ]
  },
  {
   "cell_type": "markdown",
   "metadata": {},
   "source": [
    "## Question 2. How many people in Kigoma live in urban area ?"
   ]
  },
  {
   "cell_type": "code",
   "execution_count": null,
   "metadata": {
    "collapsed": true
   },
   "outputs": [],
   "source": [
    "# your code here"
   ]
  },
  {
   "cell_type": "markdown",
   "metadata": {},
   "source": [
    "## Question 3. What types  of toilet facility do people use. How many in each type?"
   ]
  },
  {
   "cell_type": "code",
   "execution_count": null,
   "metadata": {
    "collapsed": true
   },
   "outputs": [],
   "source": [
    "# your code here"
   ]
  },
  {
   "cell_type": "markdown",
   "metadata": {},
   "source": [
    "## Question 4. What is the common source of drinking water for people living in Arusha?\n"
   ]
  },
  {
   "cell_type": "code",
   "execution_count": null,
   "metadata": {
    "collapsed": true
   },
   "outputs": [],
   "source": [
    "# your code"
   ]
  },
  {
   "cell_type": "markdown",
   "metadata": {},
   "source": [
    "## Question 5. In which region people travel long distance to reach health facility?"
   ]
  },
  {
   "cell_type": "code",
   "execution_count": null,
   "metadata": {
    "collapsed": true
   },
   "outputs": [],
   "source": [
    "# your code"
   ]
  },
  {
   "cell_type": "markdown",
   "metadata": {},
   "source": [
    "## Question 6.Find number of people who do not treat their drinking water in each region"
   ]
  },
  {
   "cell_type": "code",
   "execution_count": null,
   "metadata": {
    "collapsed": true
   },
   "outputs": [],
   "source": [
    "# your code"
   ]
  },
  {
   "cell_type": "markdown",
   "metadata": {},
   "source": [
    "## Let us convert categorical values into numeric label"
   ]
  },
  {
   "cell_type": "code",
   "execution_count": null,
   "metadata": {
    "collapsed": true,
    "scrolled": true
   },
   "outputs": [],
   "source": [
    "data.electricity.value_counts()"
   ]
  },
  {
   "cell_type": "code",
   "execution_count": null,
   "metadata": {
    "collapsed": true
   },
   "outputs": [],
   "source": [
    "data['electricity'] = data['electricity'].map({'No': 0,'Yes': 1})\n",
    "data['tv'] = data['tv'].map({'No': 0,'Yes': 1})"
   ]
  },
  {
   "cell_type": "markdown",
   "metadata": {},
   "source": [
    "To find percent of people with electricity in both urban and rural area we use:"
   ]
  },
  {
   "cell_type": "code",
   "execution_count": null,
   "metadata": {},
   "outputs": [],
   "source": [
    "data.groupby('residence_type')[['electricity']].mean()"
   ]
  },
  {
   "cell_type": "markdown",
   "metadata": {},
   "source": [
    "This immediately gives us some insight: overall, one of every five family ($0.212 * 5 = 1$) in urban area has electricity, while it is only one in 40 families in rural area."
   ]
  },
  {
   "cell_type": "markdown",
   "metadata": {},
   "source": [
    "## Question 8.Find distribution of family with refrigerator in urban and rural area."
   ]
  },
  {
   "cell_type": "code",
   "execution_count": null,
   "metadata": {
    "collapsed": true
   },
   "outputs": [],
   "source": [
    "# your code"
   ]
  },
  {
   "cell_type": "markdown",
   "metadata": {},
   "source": [
    "## Exploratory Data Analysis\n",
    "Data Exploration is the key to getting insights from data. Practitioners say a good data exploration strategy can solve even complicated problems in few hours.\n"
   ]
  },
  {
   "cell_type": "code",
   "execution_count": null,
   "metadata": {
    "collapsed": true
   },
   "outputs": [],
   "source": [
    "# load visualization library\n",
    "import matplotlib.pyplot as plt\n",
    "import seaborn as sns\n",
    "%matplotlib inline"
   ]
  },
  {
   "cell_type": "markdown",
   "metadata": {},
   "source": [
    "## Let look our data graphically\n",
    "\n",
    "For example: Distribution of residence from Tanzania mainland and Tanzania Zanzibar\n",
    "\n",
    "** Note:** use *.value_counts()* to get unique values of categorical column."
   ]
  },
  {
   "cell_type": "code",
   "execution_count": null,
   "metadata": {},
   "outputs": [],
   "source": [
    "data.location.value_counts().plot(kind='bar')\n",
    "plt.title('Distribution of residence from Tanzania mainland and Tanzania Zanzibar');"
   ]
  },
  {
   "cell_type": "code",
   "execution_count": null,
   "metadata": {},
   "outputs": [],
   "source": [
    "tz_rural = len(data[data.location=='Mainland rural'])\n",
    "tz_urban = len(data[data.location=='Mainland urban'])\n",
    "tz_ugunja = len(data[data.location=='Unguja'])\n",
    "total = data.shape[0]\n",
    "print(\"Number of people from Tanzania-rural: %d \" %tz_rural)\n",
    "print(\"Number of people from Tanzania-urban: %d \" %tz_urban)\n",
    "print(\"Number of people from Tanzania-Zanzibar: %d \" %tz_ugunja)"
   ]
  },
  {
   "cell_type": "markdown",
   "metadata": {},
   "source": [
    "## Question 9.  Plot the distribution of water treatment. What percent of people do not treat their drinking water?"
   ]
  },
  {
   "cell_type": "code",
   "execution_count": null,
   "metadata": {
    "collapsed": true
   },
   "outputs": [],
   "source": [
    "# your code here"
   ]
  },
  {
   "cell_type": "markdown",
   "metadata": {},
   "source": [
    "## Let  break down a plot  by some categories using searborn FacetGrid."
   ]
  },
  {
   "cell_type": "code",
   "execution_count": null,
   "metadata": {},
   "outputs": [],
   "source": [
    "g = sns.FacetGrid(data, col='residence_type')\n",
    "g.map(sns.distplot, \"households_number\")"
   ]
  },
  {
   "cell_type": "markdown",
   "metadata": {},
   "source": [
    "## Question 9.  Plot the distribution of wealth index in urban and rural area.\n"
   ]
  },
  {
   "cell_type": "code",
   "execution_count": null,
   "metadata": {},
   "outputs": [],
   "source": [
    "# your code here"
   ]
  }
 ],
 "metadata": {
  "kernelspec": {
   "display_name": "Python 3",
   "language": "python",
   "name": "python3"
  },
  "language_info": {
   "codemirror_mode": {
    "name": "ipython",
    "version": 3
   },
   "file_extension": ".py",
   "mimetype": "text/x-python",
   "name": "python",
   "nbconvert_exporter": "python",
   "pygments_lexer": "ipython3",
   "version": "3.6.0"
  }
 },
 "nbformat": 4,
 "nbformat_minor": 2
}
