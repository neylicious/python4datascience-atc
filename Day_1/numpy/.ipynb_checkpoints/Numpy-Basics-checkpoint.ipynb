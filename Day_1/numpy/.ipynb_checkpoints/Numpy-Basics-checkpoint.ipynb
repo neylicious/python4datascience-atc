{
 "cells": [
  {
   "cell_type": "markdown",
   "metadata": {},
   "source": [
    "# Numpy Basics\n",
    "\n",
    "## 1.0 Numpy Arrays\n",
    "\n",
    "A numpy array is a grid of values, all of the same type, and is indexed by a tuple of nonnegative integers. The number of dimensions is the rank of the array; the shape of an array is a tuple of integers giving the size of the array along each dimension.\n"
   ]
  },
  {
   "cell_type": "markdown",
   "metadata": {},
   "source": [
    "To use numpy need to import the numpy module as follows."
   ]
  },
  {
   "cell_type": "code",
   "execution_count": 1,
   "metadata": {
    "collapsed": true
   },
   "outputs": [],
   "source": [
    "import numpy as np # naming import convention\n"
   ]
  },
  {
   "cell_type": "markdown",
   "metadata": {},
   "source": [
    "## 1.1 Creating numpy arrays\n",
    "\n",
    "There are a number of ways to initialize new numpy arrays, for example from\n",
    "\n",
    "* a Python list or tuples or\n",
    "* using functions that are dedicated to generating numpy arrays, such as arange, linspace, etc."
   ]
  },
  {
   "cell_type": "markdown",
   "metadata": {},
   "source": [
    "### 1.1.1 From lists\n",
    "For example, to create new vector and matrix arrays from Python lists we can use the numpy.array function."
   ]
  },
  {
   "cell_type": "code",
   "execution_count": 19,
   "metadata": {
    "collapsed": true
   },
   "outputs": [],
   "source": [
    "L = [1.5,2,0.5,6]\n",
    "a = np.array(L)"
   ]
  },
  {
   "cell_type": "code",
   "execution_count": 20,
   "metadata": {},
   "outputs": [
    {
     "name": "stdout",
     "output_type": "stream",
     "text": [
      "[ 1.5  2.   0.5  6. ]\n"
     ]
    }
   ],
   "source": [
    "print(a)"
   ]
  },
  {
   "cell_type": "code",
   "execution_count": 21,
   "metadata": {},
   "outputs": [
    {
     "name": "stdout",
     "output_type": "stream",
     "text": [
      "[20 11 15 34]\n"
     ]
    }
   ],
   "source": [
    "b = np.array([20,11,15,34])\n",
    "print(b)"
   ]
  },
  {
   "cell_type": "code",
   "execution_count": 22,
   "metadata": {},
   "outputs": [
    {
     "data": {
      "text/plain": [
       "array([1, 2, 3, 4])"
      ]
     },
     "execution_count": 22,
     "metadata": {},
     "output_type": "execute_result"
    }
   ],
   "source": [
    "v = np.array([1,2,3,4])\n",
    "v"
   ]
  },
  {
   "cell_type": "code",
   "execution_count": 23,
   "metadata": {},
   "outputs": [
    {
     "data": {
      "text/plain": [
       "1"
      ]
     },
     "execution_count": 23,
     "metadata": {},
     "output_type": "execute_result"
    }
   ],
   "source": [
    "# get dimension of an array\n",
    "b.ndim"
   ]
  },
  {
   "cell_type": "code",
   "execution_count": 25,
   "metadata": {},
   "outputs": [
    {
     "data": {
      "text/plain": [
       "4"
      ]
     },
     "execution_count": 25,
     "metadata": {},
     "output_type": "execute_result"
    }
   ],
   "source": [
    "# get size of an array\n",
    "b.size"
   ]
  },
  {
   "cell_type": "code",
   "execution_count": 34,
   "metadata": {},
   "outputs": [
    {
     "data": {
      "text/plain": [
       "array([[1, 2],\n",
       "       [3, 4]])"
      ]
     },
     "execution_count": 34,
     "metadata": {},
     "output_type": "execute_result"
    }
   ],
   "source": [
    "# Creating 2 D array\n",
    "M = np.array([[1, 2], [3, 4]])\n",
    "M"
   ]
  },
  {
   "cell_type": "code",
   "execution_count": 35,
   "metadata": {},
   "outputs": [
    {
     "data": {
      "text/plain": [
       "2"
      ]
     },
     "execution_count": 35,
     "metadata": {},
     "output_type": "execute_result"
    }
   ],
   "source": [
    "# get dimension of an array\n",
    "M.ndim"
   ]
  },
  {
   "cell_type": "code",
   "execution_count": 36,
   "metadata": {},
   "outputs": [
    {
     "data": {
      "text/plain": [
       "4"
      ]
     },
     "execution_count": 36,
     "metadata": {},
     "output_type": "execute_result"
    }
   ],
   "source": [
    "# get size of an array\n",
    "M.size"
   ]
  },
  {
   "cell_type": "code",
   "execution_count": 37,
   "metadata": {},
   "outputs": [
    {
     "data": {
      "text/plain": [
       "(2, 2)"
      ]
     },
     "execution_count": 37,
     "metadata": {},
     "output_type": "execute_result"
    }
   ],
   "source": [
    "# get shape of an array\n",
    "M.shape"
   ]
  },
  {
   "cell_type": "code",
   "execution_count": 38,
   "metadata": {},
   "outputs": [
    {
     "data": {
      "text/plain": [
       "array([[ 0.2,  0.4,  2. ],\n",
       "       [ 0.1,  2. ,  5. ],\n",
       "       [ 3. ,  0.4,  0.1]])"
      ]
     },
     "execution_count": 38,
     "metadata": {},
     "output_type": "execute_result"
    }
   ],
   "source": [
    "N = np.array([[0.2,0.4,2],[0.1,2,5],[3,0.4,0.1]])\n",
    "N"
   ]
  },
  {
   "cell_type": "code",
   "execution_count": 39,
   "metadata": {},
   "outputs": [
    {
     "data": {
      "text/plain": [
       "2"
      ]
     },
     "execution_count": 39,
     "metadata": {},
     "output_type": "execute_result"
    }
   ],
   "source": [
    "# get dimension of an array\n",
    "N.ndim"
   ]
  },
  {
   "cell_type": "code",
   "execution_count": 40,
   "metadata": {},
   "outputs": [
    {
     "data": {
      "text/plain": [
       "(3, 3)"
      ]
     },
     "execution_count": 40,
     "metadata": {},
     "output_type": "execute_result"
    }
   ],
   "source": [
    "# get shape of an array\n",
    "N.shape"
   ]
  },
  {
   "cell_type": "code",
   "execution_count": 41,
   "metadata": {},
   "outputs": [
    {
     "data": {
      "text/plain": [
       "9"
      ]
     },
     "execution_count": 41,
     "metadata": {},
     "output_type": "execute_result"
    }
   ],
   "source": [
    "# get size of an array\n",
    "N.size"
   ]
  },
  {
   "cell_type": "markdown",
   "metadata": {},
   "source": [
    "Similary we can use python list to create numpy matrix"
   ]
  },
  {
   "cell_type": "code",
   "execution_count": 43,
   "metadata": {},
   "outputs": [
    {
     "data": {
      "text/plain": [
       "matrix([[ 0,  2,  4],\n",
       "        [ 1,  5, -2],\n",
       "        [ 1,  0,  1]])"
      ]
     },
     "execution_count": 43,
     "metadata": {},
     "output_type": "execute_result"
    }
   ],
   "source": [
    "c = np.matrix([[0,2,4],\n",
    "               [1,5,-2],\n",
    "               [1,0,1]])\n",
    "c"
   ]
  },
  {
   "cell_type": "markdown",
   "metadata": {},
   "source": [
    "## Note: \n",
    "Numpy matrices are strictly 2-dimensional, while numpy arrays (ndarrays) are N-dimensional.\n",
    "The main advantage of numpy matrices is that they provide a convenient notation for matrix multiplication: if a and b are matrices, then a*b is their matrix product."
   ]
  },
  {
   "cell_type": "markdown",
   "metadata": {},
   "source": [
    "### 1.2 Using array-generating functions\n",
    "\n",
    "For larger arrays it is inpractical to initialize the data manually, using explicit python lists.\n",
    "Instead we can use one of the many functions in numpy that generates arrays of different forms.\n",
    "\n",
    "Some of the more common are:\n",
    "\n",
    "* np.arange;\n",
    "* np.linspace;\n",
    "* np.logspace;\n",
    "* np.diag;\n",
    "* np.zeros;\n",
    "* np.ones;\n",
    "* np.empty;\n"
   ]
  },
  {
   "cell_type": "markdown",
   "metadata": {},
   "source": [
    "#### np.arange"
   ]
  },
  {
   "cell_type": "code",
   "execution_count": 44,
   "metadata": {},
   "outputs": [
    {
     "data": {
      "text/plain": [
       "array([0, 1, 2, 3, 4, 5, 6, 7, 8, 9])"
      ]
     },
     "execution_count": 44,
     "metadata": {},
     "output_type": "execute_result"
    }
   ],
   "source": [
    "#Evenly spaced array (arange)\n",
    "np.arange(10)"
   ]
  },
  {
   "cell_type": "code",
   "execution_count": 46,
   "metadata": {},
   "outputs": [
    {
     "data": {
      "text/plain": [
       "array([ 0,  2,  4,  6,  8, 10, 12, 14, 16, 18])"
      ]
     },
     "execution_count": 46,
     "metadata": {},
     "output_type": "execute_result"
    }
   ],
   "source": [
    "# start, end (exclusive), step\n",
    "np.arange(0,20,2)"
   ]
  },
  {
   "cell_type": "markdown",
   "metadata": {},
   "source": [
    "#### np.linspace and np.logspace"
   ]
  },
  {
   "cell_type": "code",
   "execution_count": 47,
   "metadata": {},
   "outputs": [
    {
     "data": {
      "text/plain": [
       "array([ 0.        ,  0.01010101,  0.02020202,  0.03030303,  0.04040404,\n",
       "        0.05050505,  0.06060606,  0.07070707,  0.08080808,  0.09090909,\n",
       "        0.1010101 ,  0.11111111,  0.12121212,  0.13131313,  0.14141414,\n",
       "        0.15151515,  0.16161616,  0.17171717,  0.18181818,  0.19191919,\n",
       "        0.2020202 ,  0.21212121,  0.22222222,  0.23232323,  0.24242424,\n",
       "        0.25252525,  0.26262626,  0.27272727,  0.28282828,  0.29292929,\n",
       "        0.3030303 ,  0.31313131,  0.32323232,  0.33333333,  0.34343434,\n",
       "        0.35353535,  0.36363636,  0.37373737,  0.38383838,  0.39393939,\n",
       "        0.4040404 ,  0.41414141,  0.42424242,  0.43434343,  0.44444444,\n",
       "        0.45454545,  0.46464646,  0.47474747,  0.48484848,  0.49494949,\n",
       "        0.50505051,  0.51515152,  0.52525253,  0.53535354,  0.54545455,\n",
       "        0.55555556,  0.56565657,  0.57575758,  0.58585859,  0.5959596 ,\n",
       "        0.60606061,  0.61616162,  0.62626263,  0.63636364,  0.64646465,\n",
       "        0.65656566,  0.66666667,  0.67676768,  0.68686869,  0.6969697 ,\n",
       "        0.70707071,  0.71717172,  0.72727273,  0.73737374,  0.74747475,\n",
       "        0.75757576,  0.76767677,  0.77777778,  0.78787879,  0.7979798 ,\n",
       "        0.80808081,  0.81818182,  0.82828283,  0.83838384,  0.84848485,\n",
       "        0.85858586,  0.86868687,  0.87878788,  0.88888889,  0.8989899 ,\n",
       "        0.90909091,  0.91919192,  0.92929293,  0.93939394,  0.94949495,\n",
       "        0.95959596,  0.96969697,  0.97979798,  0.98989899,  1.        ])"
      ]
     },
     "execution_count": 47,
     "metadata": {},
     "output_type": "execute_result"
    }
   ],
   "source": [
    "# using linspace, both end points **ARE included**\n",
    "np.linspace(0,1,100)"
   ]
  },
  {
   "cell_type": "code",
   "execution_count": 48,
   "metadata": {},
   "outputs": [
    {
     "data": {
      "text/plain": [
       "array([  1.        ,   1.77827941,   3.16227766,   5.62341325,  10.        ])"
      ]
     },
     "execution_count": 48,
     "metadata": {},
     "output_type": "execute_result"
    }
   ],
   "source": [
    "# equally spaced values on a logarithmic scale, use logspace.\n",
    "np.logspace(0,1,5) "
   ]
  },
  {
   "cell_type": "code",
   "execution_count": 50,
   "metadata": {},
   "outputs": [
    {
     "data": {
      "text/plain": [
       "array([  1.00000000e+00,   2.16011948e+00,   4.66611616e+00,\n",
       "         1.00793684e+01,   2.17726400e+01,   4.70315038e+01,\n",
       "         1.01593667e+02,   2.19454460e+02,   4.74047853e+02,\n",
       "         1.02400000e+03])"
      ]
     },
     "execution_count": 50,
     "metadata": {},
     "output_type": "execute_result"
    }
   ],
   "source": [
    "# specify the logarithmic base, by default is base 10\n",
    "np.logspace(0,10,10,base=2) "
   ]
  },
  {
   "cell_type": "markdown",
   "metadata": {},
   "source": [
    "### Use common array"
   ]
  },
  {
   "cell_type": "code",
   "execution_count": 51,
   "metadata": {},
   "outputs": [
    {
     "data": {
      "text/plain": [
       "array([[ 0.,  0.,  0.],\n",
       "       [ 0.,  0.,  0.]])"
      ]
     },
     "execution_count": 51,
     "metadata": {},
     "output_type": "execute_result"
    }
   ],
   "source": [
    "np.zeros((2,3))"
   ]
  },
  {
   "cell_type": "code",
   "execution_count": 52,
   "metadata": {},
   "outputs": [
    {
     "data": {
      "text/plain": [
       "array([[ 1.,  1.,  1.],\n",
       "       [ 1.,  1.,  1.],\n",
       "       [ 1.,  1.,  1.],\n",
       "       [ 1.,  1.,  1.]])"
      ]
     },
     "execution_count": 52,
     "metadata": {},
     "output_type": "execute_result"
    }
   ],
   "source": [
    "np.ones((4,3))"
   ]
  },
  {
   "cell_type": "markdown",
   "metadata": {},
   "source": [
    "## 1.3 Random Number Generation\n",
    "\n",
    "### np.random.rand & np.random.randn\n",
    "\n",
    "It is often useful to create arrays with random numbers that follow a specific distribution. The np.random module contains a number of functions that can be used to this effect."
   ]
  },
  {
   "cell_type": "code",
   "execution_count": 56,
   "metadata": {},
   "outputs": [
    {
     "data": {
      "text/plain": [
       "array([ 0.32321219,  0.6019864 ,  0.16400674,  0.27655565,  0.080157  ])"
      ]
     },
     "execution_count": 56,
     "metadata": {},
     "output_type": "execute_result"
    }
   ],
   "source": [
    "# uniform random numbers in [0,1]\n",
    "np.random.rand(5)"
   ]
  },
  {
   "cell_type": "code",
   "execution_count": 58,
   "metadata": {},
   "outputs": [
    {
     "data": {
      "text/plain": [
       "array([[-0.11274448, -0.08282236],\n",
       "       [-0.07090793,  0.10598809]])"
      ]
     },
     "execution_count": 58,
     "metadata": {},
     "output_type": "execute_result"
    }
   ],
   "source": [
    "# standard Gaussian distribution  with mean 0 and standard deviation 0.1\n",
    "mu, sigma = 0, 0.1 # mean and standard deviation\n",
    "size=(2,2)\n",
    "np.random.normal(mu, sigma, size)"
   ]
  },
  {
   "cell_type": "markdown",
   "metadata": {},
   "source": [
    "### Random seed\n",
    "\n",
    "The seed is for when we want repeatable results"
   ]
  },
  {
   "cell_type": "code",
   "execution_count": 64,
   "metadata": {},
   "outputs": [
    {
     "data": {
      "text/plain": [
       "array([ 0.91910903,  0.6421956 ,  0.75371223,  0.13931457,  0.08731955])"
      ]
     },
     "execution_count": 64,
     "metadata": {},
     "output_type": "execute_result"
    }
   ],
   "source": [
    "np.random.seed(77)\n",
    "np.random.rand(5)"
   ]
  },
  {
   "cell_type": "markdown",
   "metadata": {},
   "source": [
    "### Exercise\n",
    "\n",
    "* Create an array [-1. , -0.9, -0.8, -0.7, -0.6, -0.5, -0.4, -0.3, -0.2, -0.1] without typing the values by hand\n",
    "* Generate a NumPy array of 1000 random numbers sampled from a Poisson distribution, with parameter $\\lambda=5$. \n",
    "**Hint use: np.random.poisson(lambda, size)**"
   ]
  },
  {
   "cell_type": "code",
   "execution_count": 67,
   "metadata": {},
   "outputs": [
    {
     "data": {
      "text/plain": [
       "array([-1. , -0.9, -0.8, -0.7, -0.6, -0.5, -0.4, -0.3, -0.2, -0.1])"
      ]
     },
     "execution_count": 67,
     "metadata": {},
     "output_type": "execute_result"
    }
   ],
   "source": [
    "np.linspace(-1,-0.1,10)"
   ]
  },
  {
   "cell_type": "code",
   "execution_count": 69,
   "metadata": {},
   "outputs": [
    {
     "data": {
      "text/plain": [
       "array([ 6,  6,  3,  3,  4,  3,  4,  7,  8,  4,  8,  4,  7,  3,  5,  9,  3,\n",
       "        6,  7,  2,  4,  3,  5,  3,  4,  3,  3,  4,  6, 12,  4,  4,  7,  8,\n",
       "        7,  5,  4,  4,  1,  8,  4,  2,  2,  5,  3,  8,  3,  3,  5,  3,  9,\n",
       "        8,  3,  3,  5,  2,  5,  5,  4,  4,  4,  5,  5,  2,  3,  5,  3, 10,\n",
       "        4,  6,  4,  6,  6,  4,  8,  3,  4,  3,  9,  8,  3,  4,  4,  7,  9,\n",
       "        6,  3,  5,  6,  2,  6,  2,  4,  5,  3,  8,  6,  5,  2,  5,  5,  6,\n",
       "        8, 13,  6,  3,  3,  3,  3,  3,  6,  7,  5,  8,  3,  4,  5,  1,  4,\n",
       "        6,  3,  5,  2,  6,  4,  8,  4,  5,  3,  6,  5,  1,  3,  2,  4,  7,\n",
       "        3,  8,  3,  3,  6,  4,  7,  7,  6,  7,  3,  4,  5,  3,  3,  6,  7,\n",
       "        4,  5,  8,  7,  6, 11,  1,  4,  3,  5, 12,  5,  4,  9,  6,  5,  4,\n",
       "        7,  4,  4,  6,  4,  3,  5,  4,  4,  4,  4,  3,  6,  7,  7,  4,  8,\n",
       "        3,  6,  4,  7,  1,  4,  4,  0,  1,  5,  4,  4,  8,  3,  9,  2,  7,\n",
       "        3,  7,  3,  8,  3,  3,  2,  8,  7,  4,  7,  5,  5,  8,  3,  6,  4,\n",
       "        8,  6,  9,  7,  5,  3,  5, 10,  4,  8,  5,  4,  7,  6,  4,  9,  5,\n",
       "       10,  4,  3,  2,  7,  6,  8,  6,  5,  7,  2,  9,  5,  7,  1,  6,  3,\n",
       "        5,  2,  4,  6,  6,  7,  8,  4,  6,  4,  6,  6,  5,  4,  6,  6,  6,\n",
       "        4,  6,  5,  6,  2,  6, 10,  5,  6,  5,  6,  7,  5,  5,  4,  4,  1,\n",
       "        8,  3,  4,  4,  6,  5,  2,  6,  6,  9,  7,  3,  5,  6,  9,  7,  6,\n",
       "        4,  6,  5,  3,  7,  2,  5,  5,  3,  9,  2,  3,  6,  5, 11,  4,  5,\n",
       "        4,  5,  6,  7,  5,  5,  6,  6,  6,  3,  3, 10, 10,  6,  5,  4,  5,\n",
       "        4,  4,  3,  9,  1,  2,  1,  6,  4,  4,  2,  7,  2,  2,  9,  6,  6,\n",
       "        5,  4,  9,  2,  3,  3,  6, 11,  8,  4,  5,  4,  5,  1,  8,  0,  7,\n",
       "        8,  6,  1,  4,  7,  3,  3,  2,  0,  5,  8,  6,  5,  7,  8, 11,  4,\n",
       "        5,  4,  4,  7,  4,  4,  4,  9,  8,  6,  5,  6,  2,  7,  8,  9,  5,\n",
       "        6,  7,  3,  2,  7,  6,  5,  6,  3,  3,  7,  5, 11,  3,  3,  3,  7,\n",
       "        6,  2,  5,  6,  4,  6,  5,  5,  3,  3,  4,  5,  2,  4,  4,  4,  9,\n",
       "        4,  3,  7,  4,  5, 11,  8, 11,  6,  5,  3,  4,  3,  4,  4,  5, 10,\n",
       "        3,  4,  7,  8,  6,  3,  7,  5,  2,  5,  6,  6,  4,  6,  1,  3,  4,\n",
       "        5,  8,  4,  9,  7,  4,  1,  6,  3,  5, 11,  7,  6,  5,  4,  3,  8,\n",
       "        1,  1,  5,  7,  4,  3,  4,  7,  5,  3,  3,  4, 10, 10,  4,  2,  5,\n",
       "        3,  5,  6,  6,  4,  7,  8,  4,  3,  8,  4,  5,  2,  8,  7,  9,  8,\n",
       "        2,  4,  4,  5,  9,  3,  3,  2,  3,  9,  4,  6,  6,  4,  7,  3,  2,\n",
       "        5, 10,  5,  5,  6,  6,  3,  6,  2,  4,  8,  6,  6,  5,  3,  3,  4,\n",
       "        9,  5,  3,  4,  3,  6,  8,  8,  2,  8,  3,  6,  5,  6,  5,  4,  4,\n",
       "        7,  7,  7,  6,  5,  3,  2,  6,  0,  5,  4,  6,  2,  7,  3,  3, 10,\n",
       "        5,  7,  5,  6,  3,  4,  5,  2,  4,  3,  9,  3,  4,  4,  6,  6,  5,\n",
       "        4,  2,  4,  5,  3,  4,  6,  3,  7,  3,  3,  3,  2,  4,  5,  2,  2,\n",
       "        6,  5,  3,  3,  7,  7,  9,  6,  6,  7,  5,  7,  4,  4,  5,  2,  9,\n",
       "        2,  5,  3,  4,  9,  8,  1,  4,  5,  5,  7,  5,  7,  6,  3,  4,  4,\n",
       "        6,  5,  4,  5,  6,  1,  4,  3,  5,  3,  4,  4,  8, 11,  5,  7,  2,\n",
       "        4,  1, 10,  3,  4,  2,  4,  7,  5,  2,  8,  6,  7,  7,  4,  6,  8,\n",
       "        5,  7,  3,  4,  4,  4,  5,  9,  8,  4,  7,  6,  6,  4,  7,  6,  5,\n",
       "        4,  4,  4,  5,  5,  5,  4,  2,  4,  3,  2,  2,  4,  6,  6,  8,  5,\n",
       "        5,  1,  5,  4,  5,  7,  6,  7,  7,  6,  5,  3,  4,  4,  3,  6,  4,\n",
       "        2,  6,  7,  4,  2,  5,  8,  4,  7,  2,  9,  5,  8,  4,  4,  8,  7,\n",
       "        3,  8,  0,  3,  5,  2,  7,  6,  5,  4,  4,  6,  7,  7,  3,  3,  2,\n",
       "        0,  3,  6,  1,  6,  9,  3,  8,  4,  9,  3,  4,  2,  2,  1,  1,  8,\n",
       "        3,  5,  1,  4,  1,  3, 10,  9,  7,  2,  4,  6,  3,  6,  1,  6,  5,\n",
       "        6,  8,  6,  9,  6,  7, 10,  1,  5,  6,  4,  2,  7,  6,  6,  5,  5,\n",
       "        4,  9,  7,  6,  5,  6,  6,  3,  3,  2,  8,  2,  4,  7,  7,  6,  4,\n",
       "        1,  5,  4,  6,  5,  4,  5,  4,  4,  7,  4,  7,  6,  5,  9,  4,  5,\n",
       "        4,  2,  3,  6,  3,  5,  1,  8, 11,  2,  5,  5,  6,  3, 10,  3,  3,\n",
       "        3,  6,  6,  5, 15,  4,  2,  8,  7,  3,  5,  6,  6,  1,  4,  5,  5,\n",
       "        2,  5,  3,  5,  5,  3,  6,  5,  2,  5,  9,  6,  3,  6,  4, 11,  4,\n",
       "        2,  3,  6,  7,  2,  3,  4,  8,  6,  5,  5,  2,  2,  3,  3,  3,  3,\n",
       "        3,  1,  3,  7,  4,  7,  1,  6,  4,  2,  3,  3,  7,  3,  3,  6,  6,\n",
       "        4,  9,  4,  8,  6,  2,  4,  6,  6,  6,  3,  7,  5,  1,  2,  4,  6,\n",
       "       11,  7,  1,  4,  7,  3,  2,  6,  5,  3,  2,  5,  6,  6,  6,  6,  5,\n",
       "        6,  5,  5,  7,  6,  8,  3,  4,  8,  6,  5,  5,  4,  2])"
      ]
     },
     "execution_count": 69,
     "metadata": {},
     "output_type": "execute_result"
    }
   ],
   "source": [
    "np.random.poisson(5,1000)"
   ]
  },
  {
   "cell_type": "markdown",
   "metadata": {},
   "source": [
    "## 1.3 Indexing and slicing \n",
    "\n",
    "\n",
    "We can index elements in an array using the square bracket and indices. The items of an array can be accessed and assigned to the same way as other Python sequences (e.g. lists):"
   ]
  },
  {
   "cell_type": "code",
   "execution_count": 71,
   "metadata": {},
   "outputs": [
    {
     "name": "stdout",
     "output_type": "stream",
     "text": [
      "[32 29 29 36 30 33 25 34 32 30]\n"
     ]
    }
   ],
   "source": [
    " # Create an array of temp sensor data for ten days\n",
    "np.random.seed(77)\n",
    "tempData = np.random.randint(25,37, size=10)\n",
    "print(tempData)"
   ]
  },
  {
   "cell_type": "code",
   "execution_count": 72,
   "metadata": {},
   "outputs": [
    {
     "name": "stdout",
     "output_type": "stream",
     "text": [
      "32\n"
     ]
    }
   ],
   "source": [
    "#print the first sensor data\n",
    "print(tempData[0])"
   ]
  },
  {
   "cell_type": "code",
   "execution_count": 73,
   "metadata": {},
   "outputs": [
    {
     "name": "stdout",
     "output_type": "stream",
     "text": [
      "[36 30 33 25]\n"
     ]
    }
   ],
   "source": [
    "#print the sensor data between index 3 and 7\n",
    "print(tempData[3:7])"
   ]
  },
  {
   "cell_type": "markdown",
   "metadata": {},
   "source": [
    "###### Note that the last index is not included! :"
   ]
  },
  {
   "cell_type": "code",
   "execution_count": 74,
   "metadata": {},
   "outputs": [
    {
     "name": "stdout",
     "output_type": "stream",
     "text": [
      "[34 32 30]\n"
     ]
    }
   ],
   "source": [
    "#print the last three data\n",
    "print(tempData[7:])"
   ]
  },
  {
   "cell_type": "code",
   "execution_count": 75,
   "metadata": {},
   "outputs": [
    {
     "name": "stdout",
     "output_type": "stream",
     "text": [
      "[32 29 29]\n"
     ]
    }
   ],
   "source": [
    "# The first three sensor data\n",
    "print(tempData[:3])"
   ]
  },
  {
   "cell_type": "code",
   "execution_count": 77,
   "metadata": {},
   "outputs": [
    {
     "name": "stdout",
     "output_type": "stream",
     "text": [
      "30\n"
     ]
    }
   ],
   "source": [
    "# We can also use negative index\n",
    "print(tempData[-1])"
   ]
  },
  {
   "cell_type": "markdown",
   "metadata": {},
   "source": [
    "## Multidimensional array\n",
    "Multidimensional array behaves like a dataframe or matrix (i.e. columns and rows).Consider the following 2D  array."
   ]
  },
  {
   "cell_type": "code",
   "execution_count": 81,
   "metadata": {},
   "outputs": [],
   "source": [
    "data = np.array([[32, 29, 29, 36, 30, 33, 25, 34, 32, 30],\n",
    "       [28, 25, 36, 31, 29, 31, 29, 30, 35, 32],\n",
    "       [29, 27, 27, 35, 32, 30, 31, 34, 27, 34]])"
   ]
  },
  {
   "cell_type": "code",
   "execution_count": 82,
   "metadata": {},
   "outputs": [
    {
     "data": {
      "text/plain": [
       "(3, 10)"
      ]
     },
     "execution_count": 82,
     "metadata": {},
     "output_type": "execute_result"
    }
   ],
   "source": [
    "data.shape"
   ]
  },
  {
   "cell_type": "code",
   "execution_count": 83,
   "metadata": {},
   "outputs": [
    {
     "data": {
      "text/plain": [
       "array([32, 28, 29])"
      ]
     },
     "execution_count": 83,
     "metadata": {},
     "output_type": "execute_result"
    }
   ],
   "source": [
    "# View the first column of the array\n",
    "data[:,0]"
   ]
  },
  {
   "cell_type": "code",
   "execution_count": 85,
   "metadata": {},
   "outputs": [
    {
     "data": {
      "text/plain": [
       "array([32, 29, 29, 36, 30, 33, 25, 34, 32, 30])"
      ]
     },
     "execution_count": 85,
     "metadata": {},
     "output_type": "execute_result"
    }
   ],
   "source": [
    "# View the first row of the array\n",
    "data[0,]"
   ]
  },
  {
   "cell_type": "code",
   "execution_count": 86,
   "metadata": {},
   "outputs": [
    {
     "data": {
      "text/plain": [
       "array([[32, 29, 29, 36, 30, 33, 25, 34, 32, 30],\n",
       "       [28, 25, 36, 31, 29, 31, 29, 30, 35, 32]])"
      ]
     },
     "execution_count": 86,
     "metadata": {},
     "output_type": "execute_result"
    }
   ],
   "source": [
    "# View the first two row\n",
    "data[:2,]"
   ]
  },
  {
   "cell_type": "code",
   "execution_count": 89,
   "metadata": {},
   "outputs": [
    {
     "data": {
      "text/plain": [
       "32"
      ]
     },
     "execution_count": 89,
     "metadata": {},
     "output_type": "execute_result"
    }
   ],
   "source": [
    "#View the first  data\n",
    "data[0,0]"
   ]
  },
  {
   "cell_type": "code",
   "execution_count": 90,
   "metadata": {},
   "outputs": [
    {
     "name": "stdout",
     "output_type": "stream",
     "text": [
      "Data type                : int32\n",
      "Total number of elements : 30\n",
      "Number of dimensions     : 2\n",
      "Shape (dimensionality)   : (3, 10)\n",
      "Memory used (in bytes)   : 120\n"
     ]
    }
   ],
   "source": [
    "# Property of this array\n",
    "print('Data type                :', data.dtype)\n",
    "print('Total number of elements :', data.size)\n",
    "print('Number of dimensions     :', data.ndim)\n",
    "print('Shape (dimensionality)   :', data.shape)\n",
    "print('Memory used (in bytes)   :', data.nbytes)"
   ]
  },
  {
   "cell_type": "markdown",
   "metadata": {},
   "source": [
    "## 1.4 Shape Manipulation\n",
    "Changing the shape of an array. An array has a shape given by the number of elements along each axis:\n",
    "The shape of an array can be changed with various commands:"
   ]
  },
  {
   "cell_type": "code",
   "execution_count": 91,
   "metadata": {},
   "outputs": [
    {
     "data": {
      "text/plain": [
       "(3, 10)"
      ]
     },
     "execution_count": 91,
     "metadata": {},
     "output_type": "execute_result"
    }
   ],
   "source": [
    "#consider data shape\n",
    "data.shape"
   ]
  },
  {
   "cell_type": "code",
   "execution_count": 92,
   "metadata": {},
   "outputs": [
    {
     "data": {
      "text/plain": [
       "array([32, 29, 29, 36, 30, 33, 25, 34, 32, 30, 28, 25, 36, 31, 29, 31, 29,\n",
       "       30, 35, 32, 29, 27, 27, 35, 32, 30, 31, 34, 27, 34])"
      ]
     },
     "execution_count": 92,
     "metadata": {},
     "output_type": "execute_result"
    }
   ],
   "source": [
    "#np.ravel: Return a contiguous flattened array.\n",
    "x = data.ravel()\n",
    "x"
   ]
  },
  {
   "cell_type": "code",
   "execution_count": 93,
   "metadata": {},
   "outputs": [
    {
     "data": {
      "text/plain": [
       "(30,)"
      ]
     },
     "execution_count": 93,
     "metadata": {},
     "output_type": "execute_result"
    }
   ],
   "source": [
    "x.shape"
   ]
  },
  {
   "cell_type": "code",
   "execution_count": 98,
   "metadata": {},
   "outputs": [
    {
     "data": {
      "text/plain": [
       "array([[32, 29, 29, 36, 30],\n",
       "       [33, 25, 34, 32, 30],\n",
       "       [28, 25, 36, 31, 29],\n",
       "       [31, 29, 30, 35, 32],\n",
       "       [29, 27, 27, 35, 32],\n",
       "       [30, 31, 34, 27, 34]])"
      ]
     },
     "execution_count": 98,
     "metadata": {},
     "output_type": "execute_result"
    }
   ],
   "source": [
    "# np.reshape: Gives a new shape to an array without changing its data.\n",
    "x.reshape((6, 5))"
   ]
  },
  {
   "cell_type": "markdown",
   "metadata": {},
   "source": [
    "## 1.5 Stacking together different arrays\n",
    "\n",
    "Several arrays can be stacked together along different axes: Consider array a and b below."
   ]
  },
  {
   "cell_type": "code",
   "execution_count": 106,
   "metadata": {},
   "outputs": [
    {
     "data": {
      "text/plain": [
       "array([[ 4.,  1.],\n",
       "       [ 0.,  2.]])"
      ]
     },
     "execution_count": 106,
     "metadata": {},
     "output_type": "execute_result"
    }
   ],
   "source": [
    "a = np.array([[ 4.,  1.],\n",
    "       [ 0.,  2.]])\n",
    "a"
   ]
  },
  {
   "cell_type": "code",
   "execution_count": 107,
   "metadata": {},
   "outputs": [
    {
     "data": {
      "text/plain": [
       "array([[ 0.,  7.],\n",
       "       [ 0.,  4.]])"
      ]
     },
     "execution_count": 107,
     "metadata": {},
     "output_type": "execute_result"
    }
   ],
   "source": [
    "b = np.array([[ 0.,  7.],\n",
    "       [ 0.,  4.]])\n",
    "b"
   ]
  },
  {
   "cell_type": "code",
   "execution_count": 108,
   "metadata": {},
   "outputs": [
    {
     "data": {
      "text/plain": [
       "array([[ 4.,  1.],\n",
       "       [ 0.,  2.],\n",
       "       [ 0.,  7.],\n",
       "       [ 0.,  4.]])"
      ]
     },
     "execution_count": 108,
     "metadata": {},
     "output_type": "execute_result"
    }
   ],
   "source": [
    "# Stack arrays in sequence vertically (row wise).\n",
    "np.vstack((a, b))"
   ]
  },
  {
   "cell_type": "code",
   "execution_count": 109,
   "metadata": {},
   "outputs": [
    {
     "data": {
      "text/plain": [
       "array([[ 4.,  1.,  0.,  7.],\n",
       "       [ 0.,  2.,  0.,  4.]])"
      ]
     },
     "execution_count": 109,
     "metadata": {},
     "output_type": "execute_result"
    }
   ],
   "source": [
    "# Stack arrays in sequence horizontally (column wise).\n",
    "np.hstack((a,b))"
   ]
  }
 ],
 "metadata": {
  "anaconda-cloud": {},
  "kernelspec": {
   "display_name": "Python 3",
   "language": "python",
   "name": "python3"
  },
  "language_info": {
   "codemirror_mode": {
    "name": "ipython",
    "version": 3
   },
   "file_extension": ".py",
   "mimetype": "text/x-python",
   "name": "python",
   "nbconvert_exporter": "python",
   "pygments_lexer": "ipython3",
   "version": "3.6.1"
  }
 },
 "nbformat": 4,
 "nbformat_minor": 2
}
