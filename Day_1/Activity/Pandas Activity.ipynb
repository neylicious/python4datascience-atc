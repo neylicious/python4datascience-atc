{
 "cells": [
  {
   "cell_type": "markdown",
   "metadata": {},
   "source": [
    "## Step 1. Import numpy and pandas library"
   ]
  },
  {
   "cell_type": "code",
   "execution_count": 81,
   "metadata": {
    "collapsed": true
   },
   "outputs": [],
   "source": [
    "# your code here\n",
    "import numpy as np\n",
    "import pandas as pd"
   ]
  },
  {
   "cell_type": "markdown",
   "metadata": {},
   "source": [
    "## Step 2. Load tanzania house-hold data set"
   ]
  },
  {
   "cell_type": "code",
   "execution_count": 82,
   "metadata": {
    "collapsed": true
   },
   "outputs": [],
   "source": [
    "# your code here\n",
    "data = pd.read_csv('data/householdtz.csv')"
   ]
  },
  {
   "cell_type": "markdown",
   "metadata": {},
   "source": [
    "The columns are organized as:\n",
    "- HOUSEHOLD number :house_id\n",
    "- Number of HOUSEHOLD: households_number \n",
    "- Number of eligible women in HH: households_women\n",
    "- Number of eligible men in HH: households_men\n",
    "- Number of children 5 and under: households_children\n",
    "- Region: region\n",
    "- Type of place of residence: residence_type\n",
    "- Place of residence: residence_place\n",
    "- Source of drinking water: drink_water_source\n",
    "- Time to get to water source: time_water_source\n",
    "- Type of toilet facility: toilet_type\n",
    "- Has electricity: electricity\n",
    "- Has radio: radio\n",
    "- Has television: tv\n",
    "- Has refrigerator: refrigerator\n",
    "- Main floor material: floor_material\n",
    "- Main wall material: wall_material\n",
    "- Main roof material: roof_material\n",
    "- Rooms used for sleeping: sleeping_room\n",
    "- Has a landline telephone: landline\n",
    "- Share toilet with other households:share_toilet\n",
    "- Type of cooking fuel: cooking_fuel_type\n",
    "- Have bednet for sleeping: bednet\n",
    "- Anything done to water to make safe to drink: treat_water\n",
    "- Water usually treated by: boil: water_boil\n",
    "- Water usually treated by: add bleach/chlorine: water_bleach\n",
    "- Water usually treated by: strain through a cloth: water_strain\n",
    "- Water usually treated by: use water filter:water_filter\n",
    "- Water usually treated by: solar disinfection:water_solar\n",
    "- Water usually treated by: let it stand and settle:water_settle\n",
    "- Water usually treated by: other: water_other\n",
    "- Number of households sharing toilet: house_share_toilet\n",
    "- Wealth index: wealth_index\n",
    "- Wealth index factor score (5 decimals): wealth_index_score\n",
    "- Mainland/Zanzibar: location\n",
    "- Who provides water at main source: water_provider\n",
    "- Paraffin lamp:paraffin_lamp\n",
    "- Iron:iron\n",
    "- Main source of energy for lighting:lighting_source\n",
    "- How far is the nearest market place (kilometers):distance_market\n",
    "- How many meals per day:meals_day\n",
    "- How far is the nearest health facility:distance_health"
   ]
  },
  {
   "cell_type": "markdown",
   "metadata": {},
   "source": [
    "## Step 3. Insepect the data-set and answer the following questions."
   ]
  },
  {
   "cell_type": "markdown",
   "metadata": {},
   "source": [
    "* How many rows does it contain? How many column?"
   ]
  },
  {
   "cell_type": "markdown",
   "metadata": {},
   "source": [
    "## Step 4 Statistically describe numerical features \n",
    "* What is the avaerage number of  households?\n",
    "* What is the minimum market walking distance?\n",
    "* What is the average number of meals per day? \n",
    "* What is maximum number of women in households?"
   ]
  },
  {
   "cell_type": "code",
   "execution_count": 53,
   "metadata": {},
   "outputs": [
    {
     "data": {
      "text/html": [
       "<div>\n",
       "<style>\n",
       "    .dataframe thead tr:only-child th {\n",
       "        text-align: right;\n",
       "    }\n",
       "\n",
       "    .dataframe thead th {\n",
       "        text-align: left;\n",
       "    }\n",
       "\n",
       "    .dataframe tbody tr th {\n",
       "        vertical-align: top;\n",
       "    }\n",
       "</style>\n",
       "<table border=\"1\" class=\"dataframe\">\n",
       "  <thead>\n",
       "    <tr style=\"text-align: right;\">\n",
       "      <th></th>\n",
       "      <th>Unnamed: 0</th>\n",
       "      <th>house_number</th>\n",
       "      <th>households_number</th>\n",
       "      <th>households_women</th>\n",
       "      <th>households_men</th>\n",
       "      <th>households_children</th>\n",
       "      <th>time_water_source</th>\n",
       "      <th>sleeping_room</th>\n",
       "      <th>wealth_index_score</th>\n",
       "      <th>distance_market</th>\n",
       "      <th>meals_day</th>\n",
       "      <th>distance_health</th>\n",
       "    </tr>\n",
       "  </thead>\n",
       "  <tbody>\n",
       "    <tr>\n",
       "      <th>count</th>\n",
       "      <td>401.000000</td>\n",
       "      <td>401.000000</td>\n",
       "      <td>401.000000</td>\n",
       "      <td>401.000000</td>\n",
       "      <td>401.000000</td>\n",
       "      <td>401.000000</td>\n",
       "      <td>401.000000</td>\n",
       "      <td>401.000000</td>\n",
       "      <td>401.000000</td>\n",
       "      <td>401.000000</td>\n",
       "      <td>401.000000</td>\n",
       "      <td>401.000000</td>\n",
       "    </tr>\n",
       "    <tr>\n",
       "      <th>mean</th>\n",
       "      <td>200.000000</td>\n",
       "      <td>212.942643</td>\n",
       "      <td>4.720698</td>\n",
       "      <td>0.932668</td>\n",
       "      <td>0.204489</td>\n",
       "      <td>0.987531</td>\n",
       "      <td>56.526185</td>\n",
       "      <td>1.992519</td>\n",
       "      <td>-35057.356608</td>\n",
       "      <td>39.810474</td>\n",
       "      <td>2.416459</td>\n",
       "      <td>3.573566</td>\n",
       "    </tr>\n",
       "    <tr>\n",
       "      <th>std</th>\n",
       "      <td>115.902977</td>\n",
       "      <td>136.938195</td>\n",
       "      <td>2.402456</td>\n",
       "      <td>0.789275</td>\n",
       "      <td>0.466990</td>\n",
       "      <td>0.975881</td>\n",
       "      <td>67.196874</td>\n",
       "      <td>0.904126</td>\n",
       "      <td>70404.433113</td>\n",
       "      <td>36.484024</td>\n",
       "      <td>0.564472</td>\n",
       "      <td>4.477187</td>\n",
       "    </tr>\n",
       "    <tr>\n",
       "      <th>min</th>\n",
       "      <td>0.000000</td>\n",
       "      <td>1.000000</td>\n",
       "      <td>1.000000</td>\n",
       "      <td>0.000000</td>\n",
       "      <td>0.000000</td>\n",
       "      <td>0.000000</td>\n",
       "      <td>0.000000</td>\n",
       "      <td>1.000000</td>\n",
       "      <td>-110000.000000</td>\n",
       "      <td>0.000000</td>\n",
       "      <td>1.000000</td>\n",
       "      <td>0.000000</td>\n",
       "    </tr>\n",
       "    <tr>\n",
       "      <th>25%</th>\n",
       "      <td>100.000000</td>\n",
       "      <td>101.000000</td>\n",
       "      <td>3.000000</td>\n",
       "      <td>0.000000</td>\n",
       "      <td>0.000000</td>\n",
       "      <td>0.000000</td>\n",
       "      <td>15.000000</td>\n",
       "      <td>1.000000</td>\n",
       "      <td>-84000.000000</td>\n",
       "      <td>15.000000</td>\n",
       "      <td>2.000000</td>\n",
       "      <td>1.000000</td>\n",
       "    </tr>\n",
       "    <tr>\n",
       "      <th>50%</th>\n",
       "      <td>200.000000</td>\n",
       "      <td>201.000000</td>\n",
       "      <td>4.000000</td>\n",
       "      <td>1.000000</td>\n",
       "      <td>0.000000</td>\n",
       "      <td>1.000000</td>\n",
       "      <td>30.000000</td>\n",
       "      <td>2.000000</td>\n",
       "      <td>-59000.000000</td>\n",
       "      <td>35.000000</td>\n",
       "      <td>2.000000</td>\n",
       "      <td>2.000000</td>\n",
       "    </tr>\n",
       "    <tr>\n",
       "      <th>75%</th>\n",
       "      <td>300.000000</td>\n",
       "      <td>305.000000</td>\n",
       "      <td>6.000000</td>\n",
       "      <td>1.000000</td>\n",
       "      <td>0.000000</td>\n",
       "      <td>2.000000</td>\n",
       "      <td>60.000000</td>\n",
       "      <td>3.000000</td>\n",
       "      <td>-16000.000000</td>\n",
       "      <td>52.000000</td>\n",
       "      <td>3.000000</td>\n",
       "      <td>4.000000</td>\n",
       "    </tr>\n",
       "    <tr>\n",
       "      <th>max</th>\n",
       "      <td>400.000000</td>\n",
       "      <td>624.000000</td>\n",
       "      <td>15.000000</td>\n",
       "      <td>5.000000</td>\n",
       "      <td>3.000000</td>\n",
       "      <td>4.000000</td>\n",
       "      <td>600.000000</td>\n",
       "      <td>5.000000</td>\n",
       "      <td>290000.000000</td>\n",
       "      <td>150.000000</td>\n",
       "      <td>3.000000</td>\n",
       "      <td>36.000000</td>\n",
       "    </tr>\n",
       "  </tbody>\n",
       "</table>\n",
       "</div>"
      ],
      "text/plain": [
       "       Unnamed: 0  house_number  households_number  households_women  \\\n",
       "count  401.000000    401.000000         401.000000        401.000000   \n",
       "mean   200.000000    212.942643           4.720698          0.932668   \n",
       "std    115.902977    136.938195           2.402456          0.789275   \n",
       "min      0.000000      1.000000           1.000000          0.000000   \n",
       "25%    100.000000    101.000000           3.000000          0.000000   \n",
       "50%    200.000000    201.000000           4.000000          1.000000   \n",
       "75%    300.000000    305.000000           6.000000          1.000000   \n",
       "max    400.000000    624.000000          15.000000          5.000000   \n",
       "\n",
       "       households_men  households_children  time_water_source  sleeping_room  \\\n",
       "count      401.000000           401.000000         401.000000     401.000000   \n",
       "mean         0.204489             0.987531          56.526185       1.992519   \n",
       "std          0.466990             0.975881          67.196874       0.904126   \n",
       "min          0.000000             0.000000           0.000000       1.000000   \n",
       "25%          0.000000             0.000000          15.000000       1.000000   \n",
       "50%          0.000000             1.000000          30.000000       2.000000   \n",
       "75%          0.000000             2.000000          60.000000       3.000000   \n",
       "max          3.000000             4.000000         600.000000       5.000000   \n",
       "\n",
       "       wealth_index_score  distance_market   meals_day  distance_health  \n",
       "count          401.000000       401.000000  401.000000       401.000000  \n",
       "mean        -35057.356608        39.810474    2.416459         3.573566  \n",
       "std          70404.433113        36.484024    0.564472         4.477187  \n",
       "min        -110000.000000         0.000000    1.000000         0.000000  \n",
       "25%         -84000.000000        15.000000    2.000000         1.000000  \n",
       "50%         -59000.000000        35.000000    2.000000         2.000000  \n",
       "75%         -16000.000000        52.000000    3.000000         4.000000  \n",
       "max         290000.000000       150.000000    3.000000        36.000000  "
      ]
     },
     "execution_count": 53,
     "metadata": {},
     "output_type": "execute_result"
    }
   ],
   "source": [
    "data.describe()"
   ]
  },
  {
   "cell_type": "markdown",
   "metadata": {},
   "source": [
    "## Counting categorical values\n",
    "\n",
    "Use: `.value_counts()`"
   ]
  },
  {
   "cell_type": "code",
   "execution_count": 94,
   "metadata": {},
   "outputs": [
    {
     "data": {
      "text/plain": [
       "Mainland rural    329\n",
       "Mainland urban     68\n",
       "Unguja              4\n",
       "Name: location, dtype: int64"
      ]
     },
     "execution_count": 94,
     "metadata": {},
     "output_type": "execute_result"
    }
   ],
   "source": [
    "# e.g\n",
    "data.location.value_counts()"
   ]
  },
  {
   "cell_type": "markdown",
   "metadata": {},
   "source": [
    "## Question 1. What is first three regions with lowest average number of house-holds per family?"
   ]
  },
  {
   "cell_type": "code",
   "execution_count": 84,
   "metadata": {},
   "outputs": [
    {
     "data": {
      "text/html": [
       "<div>\n",
       "<style>\n",
       "    .dataframe thead tr:only-child th {\n",
       "        text-align: right;\n",
       "    }\n",
       "\n",
       "    .dataframe thead th {\n",
       "        text-align: left;\n",
       "    }\n",
       "\n",
       "    .dataframe tbody tr th {\n",
       "        vertical-align: top;\n",
       "    }\n",
       "</style>\n",
       "<table border=\"1\" class=\"dataframe\">\n",
       "  <thead>\n",
       "    <tr style=\"text-align: right;\">\n",
       "      <th></th>\n",
       "      <th>households_number</th>\n",
       "    </tr>\n",
       "    <tr>\n",
       "      <th>region</th>\n",
       "      <th></th>\n",
       "    </tr>\n",
       "  </thead>\n",
       "  <tbody>\n",
       "    <tr>\n",
       "      <th>Kagera</th>\n",
       "      <td>2.500000</td>\n",
       "    </tr>\n",
       "    <tr>\n",
       "      <th>Ruvuma</th>\n",
       "      <td>3.000000</td>\n",
       "    </tr>\n",
       "    <tr>\n",
       "      <th>Singida</th>\n",
       "      <td>3.250000</td>\n",
       "    </tr>\n",
       "    <tr>\n",
       "      <th>Pwani</th>\n",
       "      <td>3.333333</td>\n",
       "    </tr>\n",
       "    <tr>\n",
       "      <th>Mtwara</th>\n",
       "      <td>4.187500</td>\n",
       "    </tr>\n",
       "    <tr>\n",
       "      <th>Tanga</th>\n",
       "      <td>4.238095</td>\n",
       "    </tr>\n",
       "    <tr>\n",
       "      <th>Kilimanjaro</th>\n",
       "      <td>4.407407</td>\n",
       "    </tr>\n",
       "    <tr>\n",
       "      <th>Mbeya</th>\n",
       "      <td>4.428571</td>\n",
       "    </tr>\n",
       "    <tr>\n",
       "      <th>Iringa</th>\n",
       "      <td>4.600000</td>\n",
       "    </tr>\n",
       "    <tr>\n",
       "      <th>Dodoma</th>\n",
       "      <td>4.661972</td>\n",
       "    </tr>\n",
       "    <tr>\n",
       "      <th>Arusha</th>\n",
       "      <td>4.666667</td>\n",
       "    </tr>\n",
       "    <tr>\n",
       "      <th>Lindi</th>\n",
       "      <td>5.000000</td>\n",
       "    </tr>\n",
       "    <tr>\n",
       "      <th>Mwanza</th>\n",
       "      <td>5.625000</td>\n",
       "    </tr>\n",
       "    <tr>\n",
       "      <th>Morogoro</th>\n",
       "      <td>6.000000</td>\n",
       "    </tr>\n",
       "    <tr>\n",
       "      <th>Kigoma</th>\n",
       "      <td>6.625000</td>\n",
       "    </tr>\n",
       "    <tr>\n",
       "      <th>Zanzibar North</th>\n",
       "      <td>8.500000</td>\n",
       "    </tr>\n",
       "    <tr>\n",
       "      <th>Tabora</th>\n",
       "      <td>10.000000</td>\n",
       "    </tr>\n",
       "  </tbody>\n",
       "</table>\n",
       "</div>"
      ],
      "text/plain": [
       "                households_number\n",
       "region                           \n",
       "Kagera                   2.500000\n",
       "Ruvuma                   3.000000\n",
       "Singida                  3.250000\n",
       "Pwani                    3.333333\n",
       "Mtwara                   4.187500\n",
       "Tanga                    4.238095\n",
       "Kilimanjaro              4.407407\n",
       "Mbeya                    4.428571\n",
       "Iringa                   4.600000\n",
       "Dodoma                   4.661972\n",
       "Arusha                   4.666667\n",
       "Lindi                    5.000000\n",
       "Mwanza                   5.625000\n",
       "Morogoro                 6.000000\n",
       "Kigoma                   6.625000\n",
       "Zanzibar North           8.500000\n",
       "Tabora                  10.000000"
      ]
     },
     "execution_count": 84,
     "metadata": {},
     "output_type": "execute_result"
    }
   ],
   "source": [
    "data.groupby('region')[['households_number']].mean().sort_values(by='households_number', ascending=1)"
   ]
  },
  {
   "cell_type": "markdown",
   "metadata": {},
   "source": [
    "## Question 2. How many people in Kigoma live in urban area ?"
   ]
  },
  {
   "cell_type": "code",
   "execution_count": 85,
   "metadata": {},
   "outputs": [
    {
     "data": {
      "text/plain": [
       "Urban    5\n",
       "Name: residence_type, dtype: int64"
      ]
     },
     "execution_count": 85,
     "metadata": {},
     "output_type": "execute_result"
    }
   ],
   "source": [
    "kg=data[(data.residence_type==\"Urban\") & (data.region=='Kigoma')]\n",
    "kg.residence_type.value_counts()"
   ]
  },
  {
   "cell_type": "markdown",
   "metadata": {},
   "source": [
    "## Question 3. What types  of toilet facility do people use. How many in each type?"
   ]
  },
  {
   "cell_type": "code",
   "execution_count": 32,
   "metadata": {},
   "outputs": [
    {
     "data": {
      "text/plain": [
       "Pit latrine - without slab / open pit          266\n",
       "No facility/bush/field                          72\n",
       "Pit latrine - with slab                         32\n",
       "Flush - to pit latrine                          18\n",
       "Pit latrine - ventilated improved pit (VIP)      8\n",
       "OTHER                                            2\n",
       "Flush - to septic tank                           2\n",
       "99                                               1\n",
       "Name: toilet_type, dtype: int64"
      ]
     },
     "execution_count": 32,
     "metadata": {},
     "output_type": "execute_result"
    }
   ],
   "source": [
    "data['toilet_type'].value_counts()"
   ]
  },
  {
   "cell_type": "markdown",
   "metadata": {},
   "source": [
    "## Question 4. What is the common source of drinking water for people living in Arusha?\n"
   ]
  },
  {
   "cell_type": "code",
   "execution_count": 86,
   "metadata": {},
   "outputs": [
    {
     "data": {
      "text/plain": [
       "Public tap/standpipe                                    18\n",
       "River/dam/lake/ponds/stream/canal/irirgation channel    10\n",
       "Neighbour tap                                            8\n",
       "Open public well                                         2\n",
       "Spring                                                   2\n",
       "Bottled water                                            1\n",
       "Protected well in dwelling                               1\n",
       "Name: drink_water_source, dtype: int64"
      ]
     },
     "execution_count": 86,
     "metadata": {},
     "output_type": "execute_result"
    }
   ],
   "source": [
    "arusha= data[data.region=='Arusha'][['drink_water_source']]\n",
    "arusha.drink_water_source.value_counts()"
   ]
  },
  {
   "cell_type": "markdown",
   "metadata": {},
   "source": [
    "## Question 5. In which region people travel long distance to reach health facility?"
   ]
  },
  {
   "cell_type": "code",
   "execution_count": 87,
   "metadata": {},
   "outputs": [
    {
     "data": {
      "text/html": [
       "<div>\n",
       "<style>\n",
       "    .dataframe thead tr:only-child th {\n",
       "        text-align: right;\n",
       "    }\n",
       "\n",
       "    .dataframe thead th {\n",
       "        text-align: left;\n",
       "    }\n",
       "\n",
       "    .dataframe tbody tr th {\n",
       "        vertical-align: top;\n",
       "    }\n",
       "</style>\n",
       "<table border=\"1\" class=\"dataframe\">\n",
       "  <thead>\n",
       "    <tr style=\"text-align: right;\">\n",
       "      <th></th>\n",
       "      <th>distance_health</th>\n",
       "    </tr>\n",
       "    <tr>\n",
       "      <th>region</th>\n",
       "      <th></th>\n",
       "    </tr>\n",
       "  </thead>\n",
       "  <tbody>\n",
       "    <tr>\n",
       "      <th>Tabora</th>\n",
       "      <td>17.000000</td>\n",
       "    </tr>\n",
       "    <tr>\n",
       "      <th>Mtwara</th>\n",
       "      <td>9.375000</td>\n",
       "    </tr>\n",
       "    <tr>\n",
       "      <th>Tanga</th>\n",
       "      <td>7.357143</td>\n",
       "    </tr>\n",
       "    <tr>\n",
       "      <th>Ruvuma</th>\n",
       "      <td>7.000000</td>\n",
       "    </tr>\n",
       "    <tr>\n",
       "      <th>Kagera</th>\n",
       "      <td>4.500000</td>\n",
       "    </tr>\n",
       "    <tr>\n",
       "      <th>Morogoro</th>\n",
       "      <td>4.428571</td>\n",
       "    </tr>\n",
       "    <tr>\n",
       "      <th>Dodoma</th>\n",
       "      <td>3.154930</td>\n",
       "    </tr>\n",
       "    <tr>\n",
       "      <th>Arusha</th>\n",
       "      <td>2.595238</td>\n",
       "    </tr>\n",
       "    <tr>\n",
       "      <th>Pwani</th>\n",
       "      <td>2.333333</td>\n",
       "    </tr>\n",
       "    <tr>\n",
       "      <th>Iringa</th>\n",
       "      <td>2.200000</td>\n",
       "    </tr>\n",
       "    <tr>\n",
       "      <th>Kigoma</th>\n",
       "      <td>1.687500</td>\n",
       "    </tr>\n",
       "    <tr>\n",
       "      <th>Mwanza</th>\n",
       "      <td>1.500000</td>\n",
       "    </tr>\n",
       "    <tr>\n",
       "      <th>Singida</th>\n",
       "      <td>1.500000</td>\n",
       "    </tr>\n",
       "    <tr>\n",
       "      <th>Kilimanjaro</th>\n",
       "      <td>1.259259</td>\n",
       "    </tr>\n",
       "    <tr>\n",
       "      <th>Mbeya</th>\n",
       "      <td>1.000000</td>\n",
       "    </tr>\n",
       "    <tr>\n",
       "      <th>Lindi</th>\n",
       "      <td>1.000000</td>\n",
       "    </tr>\n",
       "    <tr>\n",
       "      <th>Zanzibar North</th>\n",
       "      <td>0.000000</td>\n",
       "    </tr>\n",
       "  </tbody>\n",
       "</table>\n",
       "</div>"
      ],
      "text/plain": [
       "                distance_health\n",
       "region                         \n",
       "Tabora                17.000000\n",
       "Mtwara                 9.375000\n",
       "Tanga                  7.357143\n",
       "Ruvuma                 7.000000\n",
       "Kagera                 4.500000\n",
       "Morogoro               4.428571\n",
       "Dodoma                 3.154930\n",
       "Arusha                 2.595238\n",
       "Pwani                  2.333333\n",
       "Iringa                 2.200000\n",
       "Kigoma                 1.687500\n",
       "Mwanza                 1.500000\n",
       "Singida                1.500000\n",
       "Kilimanjaro            1.259259\n",
       "Mbeya                  1.000000\n",
       "Lindi                  1.000000\n",
       "Zanzibar North         0.000000"
      ]
     },
     "execution_count": 87,
     "metadata": {},
     "output_type": "execute_result"
    }
   ],
   "source": [
    "data.groupby('region')[['distance_health']].mean().sort_values(by='distance_health', ascending=0)"
   ]
  },
  {
   "cell_type": "markdown",
   "metadata": {},
   "source": [
    "## Question 6.Find number of people who do not treat their drinking water in aech region"
   ]
  },
  {
   "cell_type": "code",
   "execution_count": 88,
   "metadata": {},
   "outputs": [
    {
     "data": {
      "text/plain": [
       "Dodoma            168\n",
       "Arusha             29\n",
       "Tanga              24\n",
       "Mtwara             15\n",
       "Kilimanjaro        12\n",
       "Kigoma              8\n",
       "Mbeya               5\n",
       "Morogoro            4\n",
       "Mwanza              4\n",
       "Zanzibar North      3\n",
       "Pwani               3\n",
       "Singida             3\n",
       "Iringa              3\n",
       "Tabora              2\n",
       "Lindi               1\n",
       "Ruvuma              1\n",
       "Kagera              1\n",
       "Name: region, dtype: int64"
      ]
     },
     "execution_count": 88,
     "metadata": {},
     "output_type": "execute_result"
    }
   ],
   "source": [
    "data[data['treat_water']==\"No\"]['region'].value_counts()"
   ]
  },
  {
   "cell_type": "markdown",
   "metadata": {},
   "source": [
    "## Let convert categorical values into into"
   ]
  },
  {
   "cell_type": "code",
   "execution_count": 78,
   "metadata": {},
   "outputs": [
    {
     "data": {
      "text/plain": [
       "No     377\n",
       "Yes     22\n",
       "9        2\n",
       "Name: electricity, dtype: int64"
      ]
     },
     "execution_count": 78,
     "metadata": {},
     "output_type": "execute_result"
    }
   ],
   "source": [
    "data.electricity.value_counts()"
   ]
  },
  {
   "cell_type": "code",
   "execution_count": 89,
   "metadata": {
    "collapsed": true
   },
   "outputs": [],
   "source": [
    "data['electricity'] = data['electricity'].map({'No': 0,'Yes': 1})\n",
    "data['tv'] = data['tv'].map({'No': 0,'Yes': 1})"
   ]
  },
  {
   "cell_type": "markdown",
   "metadata": {},
   "source": [
    "To find percent of people with electricity in both urban and rural area we use:"
   ]
  },
  {
   "cell_type": "code",
   "execution_count": 90,
   "metadata": {},
   "outputs": [
    {
     "data": {
      "text/html": [
       "<div>\n",
       "<style>\n",
       "    .dataframe thead tr:only-child th {\n",
       "        text-align: right;\n",
       "    }\n",
       "\n",
       "    .dataframe thead th {\n",
       "        text-align: left;\n",
       "    }\n",
       "\n",
       "    .dataframe tbody tr th {\n",
       "        vertical-align: top;\n",
       "    }\n",
       "</style>\n",
       "<table border=\"1\" class=\"dataframe\">\n",
       "  <thead>\n",
       "    <tr style=\"text-align: right;\">\n",
       "      <th></th>\n",
       "      <th>electricity</th>\n",
       "    </tr>\n",
       "    <tr>\n",
       "      <th>residence_type</th>\n",
       "      <th></th>\n",
       "    </tr>\n",
       "  </thead>\n",
       "  <tbody>\n",
       "    <tr>\n",
       "      <th>Rural</th>\n",
       "      <td>0.024024</td>\n",
       "    </tr>\n",
       "    <tr>\n",
       "      <th>Urban</th>\n",
       "      <td>0.212121</td>\n",
       "    </tr>\n",
       "  </tbody>\n",
       "</table>\n",
       "</div>"
      ],
      "text/plain": [
       "                electricity\n",
       "residence_type             \n",
       "Rural              0.024024\n",
       "Urban              0.212121"
      ]
     },
     "execution_count": 90,
     "metadata": {},
     "output_type": "execute_result"
    }
   ],
   "source": [
    "data.groupby('residence_type')[['electricity']].mean()"
   ]
  },
  {
   "cell_type": "markdown",
   "metadata": {},
   "source": [
    "This immediately gives us some insight: overall, one of every five family ($0.212 * 5 = 1$) in urban area has electricity, while it is only one in 40 families in rural area."
   ]
  },
  {
   "cell_type": "markdown",
   "metadata": {},
   "source": [
    "## Question 8.Find distribution of family with refrigerator in urban and rural area."
   ]
  },
  {
   "cell_type": "code",
   "execution_count": 91,
   "metadata": {},
   "outputs": [
    {
     "data": {
      "text/plain": [
       "No     398\n",
       "Yes      3\n",
       "Name: refrigerator, dtype: int64"
      ]
     },
     "execution_count": 91,
     "metadata": {},
     "output_type": "execute_result"
    }
   ],
   "source": [
    "data.refrigerator.value_counts()"
   ]
  },
  {
   "cell_type": "code",
   "execution_count": 92,
   "metadata": {
    "collapsed": true
   },
   "outputs": [],
   "source": [
    "data['refrigerator'] = data['refrigerator'].map({'No': 0,'Yes': 1})"
   ]
  },
  {
   "cell_type": "code",
   "execution_count": 93,
   "metadata": {},
   "outputs": [
    {
     "data": {
      "text/html": [
       "<div>\n",
       "<style>\n",
       "    .dataframe thead tr:only-child th {\n",
       "        text-align: right;\n",
       "    }\n",
       "\n",
       "    .dataframe thead th {\n",
       "        text-align: left;\n",
       "    }\n",
       "\n",
       "    .dataframe tbody tr th {\n",
       "        vertical-align: top;\n",
       "    }\n",
       "</style>\n",
       "<table border=\"1\" class=\"dataframe\">\n",
       "  <thead>\n",
       "    <tr style=\"text-align: right;\">\n",
       "      <th></th>\n",
       "      <th>refrigerator</th>\n",
       "    </tr>\n",
       "    <tr>\n",
       "      <th>residence_type</th>\n",
       "      <th></th>\n",
       "    </tr>\n",
       "  </thead>\n",
       "  <tbody>\n",
       "    <tr>\n",
       "      <th>Rural</th>\n",
       "      <td>0.000000</td>\n",
       "    </tr>\n",
       "    <tr>\n",
       "      <th>Urban</th>\n",
       "      <td>0.044118</td>\n",
       "    </tr>\n",
       "  </tbody>\n",
       "</table>\n",
       "</div>"
      ],
      "text/plain": [
       "                refrigerator\n",
       "residence_type              \n",
       "Rural               0.000000\n",
       "Urban               0.044118"
      ]
     },
     "execution_count": 93,
     "metadata": {},
     "output_type": "execute_result"
    }
   ],
   "source": [
    "data.groupby('residence_type')[['refrigerator']].mean()"
   ]
  },
  {
   "cell_type": "code",
   "execution_count": null,
   "metadata": {
    "collapsed": true
   },
   "outputs": [],
   "source": []
  }
 ],
 "metadata": {
  "kernelspec": {
   "display_name": "Python 3",
   "language": "python",
   "name": "python3"
  },
  "language_info": {
   "codemirror_mode": {
    "name": "ipython",
    "version": 3
   },
   "file_extension": ".py",
   "mimetype": "text/x-python",
   "name": "python",
   "nbconvert_exporter": "python",
   "pygments_lexer": "ipython3",
   "version": "3.6.0"
  }
 },
 "nbformat": 4,
 "nbformat_minor": 2
}
